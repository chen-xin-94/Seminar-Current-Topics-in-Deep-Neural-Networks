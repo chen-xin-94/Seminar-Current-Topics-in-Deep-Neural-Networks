{
 "cells": [
  {
   "cell_type": "markdown",
   "metadata": {},
   "source": [
    "# VAE\n",
    "inspired by \n",
    "\n",
    "https://github.com/smartgeometry-ucl/dl4g/blob/master/variational_autoencoder.ipynb\n",
    "\n",
    "https://github.com/timbmg/VAE-CVAE-MNIST"
   ]
  },
  {
   "cell_type": "code",
   "execution_count": 1,
   "metadata": {},
   "outputs": [],
   "source": [
    "import os\n",
    "import numpy as np\n",
    "import matplotlib.pyplot as plt\n",
    "import torch\n",
    "import torch.nn as nn\n",
    "import torch.nn.functional as F\n",
    "import torchvision.transforms as transforms\n",
    "from torch.utils.data import DataLoader\n",
    "from torchvision.datasets import MNIST\n",
    "import torchvision.utils"
   ]
  },
  {
   "cell_type": "markdown",
   "metadata": {},
   "source": [
    "## Hyperparamters"
   ]
  },
  {
   "cell_type": "code",
   "execution_count": 2,
   "metadata": {},
   "outputs": [],
   "source": [
    "latent_dims = 8\n",
    "num_epochs = 100\n",
    "batch_size = 128\n",
    "channel = 64\n",
    "learning_rate = 1e-3\n",
    "variational_beta = 1\n",
    "cuda_device = \"cuda:1\" "
   ]
  },
  {
   "cell_type": "markdown",
   "metadata": {},
   "source": [
    "## Loading MNIST"
   ]
  },
  {
   "cell_type": "code",
   "execution_count": 3,
   "metadata": {},
   "outputs": [],
   "source": [
    "img_transform = transforms.Compose([\n",
    "    transforms.ToTensor()\n",
    "])\n",
    "\n",
    "train_dataset = MNIST(root='./data/MNIST', download=True, train=True, transform=img_transform)\n",
    "train_dataloader = DataLoader(train_dataset, batch_size=batch_size, shuffle=True)\n",
    "\n",
    "test_dataset = MNIST(root='./data/MNIST', download=True, train=False, transform=img_transform)\n",
    "test_dataloader = DataLoader(test_dataset, batch_size=batch_size, shuffle=True)"
   ]
  },
  {
   "cell_type": "markdown",
   "metadata": {},
   "source": [
    "## VAE model"
   ]
  },
  {
   "cell_type": "code",
   "execution_count": 4,
   "metadata": {},
   "outputs": [
    {
     "name": "stdout",
     "output_type": "stream",
     "text": [
      "Number of parameters: 421265\n"
     ]
    }
   ],
   "source": [
    "class Encoder(nn.Module):\n",
    "    def __init__(self):\n",
    "        super(Encoder, self).__init__()\n",
    "        c = channel\n",
    "        self.conv1 = nn.Conv2d(in_channels=1, out_channels=c, kernel_size=4, stride=2, padding=1) # out: c x 14 x 14\n",
    "        self.conv2 = nn.Conv2d(in_channels=c, out_channels=c*2, kernel_size=4, stride=2, padding=1) # out: c x 7 x 7\n",
    "        self.fc_mu = nn.Linear(in_features=c*2*7*7, out_features=latent_dims)\n",
    "        self.fc_logvar = nn.Linear(in_features=c*2*7*7, out_features=latent_dims)\n",
    "            \n",
    "    def forward(self, x):\n",
    "        x = F.relu(self.conv1(x))\n",
    "        x = F.relu(self.conv2(x))\n",
    "        x = x.view(x.size(0), -1) # flatten batch of multi-channel feature maps to a batch of feature vectors\n",
    "        x_mu = self.fc_mu(x)\n",
    "        x_logvar = self.fc_logvar(x)\n",
    "        return x_mu, x_logvar\n",
    "\n",
    "class Decoder(nn.Module):\n",
    "    def __init__(self):\n",
    "        super(Decoder, self).__init__()\n",
    "        c = channel\n",
    "        self.fc = nn.Linear(in_features=latent_dims, out_features=c*2*7*7)\n",
    "        self.conv2 = nn.ConvTranspose2d(in_channels=c*2, out_channels=c, kernel_size=4, stride=2, padding=1)\n",
    "        self.conv1 = nn.ConvTranspose2d(in_channels=c, out_channels=1, kernel_size=4, stride=2, padding=1)\n",
    "            \n",
    "    def forward(self, x):\n",
    "        x = self.fc(x)\n",
    "        x = x.view(x.size(0), channel*2, 7, 7) # unflatten batch of feature vectors to a batch of multi-channel feature maps\n",
    "        x = F.relu(self.conv2(x))\n",
    "        x = torch.sigmoid(self.conv1(x)) # last layer before output is sigmoid, since we are using BCE as reconstruction loss\n",
    "        return x\n",
    "    \n",
    "class VariationalAutoencoder(nn.Module):\n",
    "    def __init__(self):\n",
    "        super(VariationalAutoencoder, self).__init__()\n",
    "        self.encoder = Encoder()\n",
    "        self.decoder = Decoder()\n",
    "    \n",
    "    def forward(self, x):\n",
    "        latent_mu, latent_logvar = self.encoder(x)\n",
    "        latent = self.latent_sample(latent_mu, latent_logvar)\n",
    "        x_recon = self.decoder(latent)\n",
    "        return x_recon, latent_mu, latent_logvar\n",
    "    \n",
    "    def latent_sample(self, mu, logvar):\n",
    "        if self.training:\n",
    "            # the reparameterization trick\n",
    "            std = logvar.mul(0.5).exp_()\n",
    "            eps = torch.empty_like(std).normal_()\n",
    "            return eps.mul(std).add_(mu)\n",
    "        else:\n",
    "            return mu\n",
    "    \n",
    "def vae_loss(recon_x, x, mu, logvar):\n",
    "    # recon_x is the probability of a multivariate Bernoulli distribution p.\n",
    "    # -log(p(x)) is then the pixel-wise binary cross-entropy.\n",
    "    # Averaging or not averaging the binary cross-entropy over all pixels here\n",
    "    # is a subtle detail with big effect on training, since it changes the weight\n",
    "    # we need to pick for the other loss term by several orders of magnitude.\n",
    "    # Not averaging is the direct implementation of the negative log likelihood,\n",
    "    # but averaging makes the weight of the other loss term independent of the image resolution.\n",
    "    recon_loss = F.binary_cross_entropy(recon_x.view(-1, 784), x.view(-1, 784), reduction='sum')\n",
    "    \n",
    "    # KL-divergence between the prior distribution over latent vectors\n",
    "    # (the one we are going to sample from when generating new images)\n",
    "    # and the distribution estimated by the generator for the given image.\n",
    "    kldivergence = -0.5 * torch.sum(1 + logvar - mu.pow(2) - logvar.exp())\n",
    "    \n",
    "    return recon_loss + variational_beta * kldivergence\n",
    "    \n",
    "    \n",
    "vae = VariationalAutoencoder()\n",
    "\n",
    "device = torch.device(cuda_device if torch.cuda.is_available() else \"cpu\")\n",
    "vae = vae.to(device)\n",
    "\n",
    "num_params = sum(p.numel() for p in vae.parameters() if p.requires_grad)\n",
    "print('Number of parameters: %d' % num_params)"
   ]
  },
  {
   "cell_type": "markdown",
   "metadata": {},
   "source": [
    "## Training"
   ]
  },
  {
   "cell_type": "code",
   "execution_count": 5,
   "metadata": {},
   "outputs": [
    {
     "name": "stdout",
     "output_type": "stream",
     "text": [
      "Training ...\n",
      "Epoch [1 / 100] average reconstruction error: 19170.701586\n",
      "Epoch [2 / 100] average reconstruction error: 15524.742704\n",
      "Epoch [3 / 100] average reconstruction error: 14998.079310\n",
      "Epoch [4 / 100] average reconstruction error: 14680.825610\n",
      "Epoch [5 / 100] average reconstruction error: 14466.263320\n",
      "Epoch [6 / 100] average reconstruction error: 14312.514740\n",
      "Epoch [7 / 100] average reconstruction error: 14192.935143\n",
      "Epoch [8 / 100] average reconstruction error: 14101.537170\n",
      "Epoch [9 / 100] average reconstruction error: 14026.372555\n",
      "Epoch [10 / 100] average reconstruction error: 13959.334490\n",
      "Epoch [11 / 100] average reconstruction error: 13899.223379\n",
      "Epoch [12 / 100] average reconstruction error: 13853.146349\n",
      "Epoch [13 / 100] average reconstruction error: 13804.070610\n",
      "Epoch [14 / 100] average reconstruction error: 13769.589531\n",
      "Epoch [15 / 100] average reconstruction error: 13733.645676\n",
      "Epoch [16 / 100] average reconstruction error: 13701.119176\n",
      "Epoch [17 / 100] average reconstruction error: 13673.592605\n",
      "Epoch [18 / 100] average reconstruction error: 13644.914912\n",
      "Epoch [19 / 100] average reconstruction error: 13620.918916\n",
      "Epoch [20 / 100] average reconstruction error: 13598.043595\n",
      "Epoch [21 / 100] average reconstruction error: 13581.222606\n",
      "Epoch [22 / 100] average reconstruction error: 13554.898229\n",
      "Epoch [23 / 100] average reconstruction error: 13539.681287\n",
      "Epoch [24 / 100] average reconstruction error: 13522.545213\n",
      "Epoch [25 / 100] average reconstruction error: 13497.948423\n",
      "Epoch [26 / 100] average reconstruction error: 13488.463380\n",
      "Epoch [27 / 100] average reconstruction error: 13472.512148\n",
      "Epoch [28 / 100] average reconstruction error: 13453.476558\n",
      "Epoch [29 / 100] average reconstruction error: 13446.669649\n",
      "Epoch [30 / 100] average reconstruction error: 13429.894358\n",
      "Epoch [31 / 100] average reconstruction error: 13415.485689\n",
      "Epoch [32 / 100] average reconstruction error: 13406.971369\n",
      "Epoch [33 / 100] average reconstruction error: 13395.793396\n",
      "Epoch [34 / 100] average reconstruction error: 13380.886775\n",
      "Epoch [35 / 100] average reconstruction error: 13375.941639\n",
      "Epoch [36 / 100] average reconstruction error: 13369.513412\n",
      "Epoch [37 / 100] average reconstruction error: 13352.417696\n",
      "Epoch [38 / 100] average reconstruction error: 13344.254175\n",
      "Epoch [39 / 100] average reconstruction error: 13332.305308\n",
      "Epoch [40 / 100] average reconstruction error: 13327.723883\n",
      "Epoch [41 / 100] average reconstruction error: 13317.250627\n",
      "Epoch [42 / 100] average reconstruction error: 13306.726063\n",
      "Epoch [43 / 100] average reconstruction error: 13301.749910\n",
      "Epoch [44 / 100] average reconstruction error: 13298.057628\n",
      "Epoch [45 / 100] average reconstruction error: 13285.970312\n",
      "Epoch [46 / 100] average reconstruction error: 13279.654782\n",
      "Epoch [47 / 100] average reconstruction error: 13277.934747\n",
      "Epoch [48 / 100] average reconstruction error: 13267.088484\n",
      "Epoch [49 / 100] average reconstruction error: 13258.101317\n",
      "Epoch [50 / 100] average reconstruction error: 13256.862076\n",
      "Epoch [51 / 100] average reconstruction error: 13246.778314\n",
      "Epoch [52 / 100] average reconstruction error: 13243.742610\n",
      "Epoch [53 / 100] average reconstruction error: 13235.721865\n",
      "Epoch [54 / 100] average reconstruction error: 13228.575199\n",
      "Epoch [55 / 100] average reconstruction error: 13224.587687\n",
      "Epoch [56 / 100] average reconstruction error: 13220.565299\n",
      "Epoch [57 / 100] average reconstruction error: 13216.900328\n",
      "Epoch [58 / 100] average reconstruction error: 13206.514842\n",
      "Epoch [59 / 100] average reconstruction error: 13204.969783\n",
      "Epoch [60 / 100] average reconstruction error: 13198.969731\n",
      "Epoch [61 / 100] average reconstruction error: 13199.545307\n",
      "Epoch [62 / 100] average reconstruction error: 13186.904899\n",
      "Epoch [63 / 100] average reconstruction error: 13183.573729\n",
      "Epoch [64 / 100] average reconstruction error: 13182.885896\n",
      "Epoch [65 / 100] average reconstruction error: 13173.999163\n",
      "Epoch [66 / 100] average reconstruction error: 13172.159407\n",
      "Epoch [67 / 100] average reconstruction error: 13169.811369\n",
      "Epoch [68 / 100] average reconstruction error: 13165.863456\n",
      "Epoch [69 / 100] average reconstruction error: 13162.033109\n",
      "Epoch [70 / 100] average reconstruction error: 13154.158418\n",
      "Epoch [71 / 100] average reconstruction error: 13149.358592\n",
      "Epoch [72 / 100] average reconstruction error: 13150.140129\n",
      "Epoch [73 / 100] average reconstruction error: 13149.778179\n",
      "Epoch [74 / 100] average reconstruction error: 13142.093017\n",
      "Epoch [75 / 100] average reconstruction error: 13136.797308\n",
      "Epoch [76 / 100] average reconstruction error: 13132.671003\n",
      "Epoch [77 / 100] average reconstruction error: 13129.204541\n",
      "Epoch [78 / 100] average reconstruction error: 13128.559564\n",
      "Epoch [79 / 100] average reconstruction error: 13127.368274\n",
      "Epoch [80 / 100] average reconstruction error: 13124.863285\n",
      "Epoch [81 / 100] average reconstruction error: 13118.275705\n",
      "Epoch [82 / 100] average reconstruction error: 13115.583191\n",
      "Epoch [83 / 100] average reconstruction error: 13103.428265\n",
      "Epoch [84 / 100] average reconstruction error: 13114.448348\n",
      "Epoch [85 / 100] average reconstruction error: 13107.680391\n",
      "Epoch [86 / 100] average reconstruction error: 13098.956904\n",
      "Epoch [87 / 100] average reconstruction error: 13103.153439\n",
      "Epoch [88 / 100] average reconstruction error: 13094.676756\n",
      "Epoch [89 / 100] average reconstruction error: 13095.184387\n",
      "Epoch [90 / 100] average reconstruction error: 13092.797456\n",
      "Epoch [91 / 100] average reconstruction error: 13090.180281\n",
      "Epoch [92 / 100] average reconstruction error: 13089.146655\n",
      "Epoch [93 / 100] average reconstruction error: 13082.173997\n",
      "Epoch [94 / 100] average reconstruction error: 13085.397932\n",
      "Epoch [95 / 100] average reconstruction error: 13078.872841\n",
      "Epoch [96 / 100] average reconstruction error: 13077.034896\n",
      "Epoch [97 / 100] average reconstruction error: 13071.303051\n",
      "Epoch [98 / 100] average reconstruction error: 13072.351510\n",
      "Epoch [99 / 100] average reconstruction error: 13066.151719\n",
      "Epoch [100 / 100] average reconstruction error: 13073.228930\n"
     ]
    }
   ],
   "source": [
    "optimizer = torch.optim.Adam(params=vae.parameters(), lr=learning_rate, weight_decay=1e-5)\n",
    "\n",
    "# set to training mode\n",
    "vae.train()\n",
    "\n",
    "train_loss_avg = []\n",
    "\n",
    "print('Training ...')\n",
    "for epoch in range(num_epochs):\n",
    "    train_loss_avg.append(0)\n",
    "    num_batches = 0\n",
    "    \n",
    "    for image_batch, _ in train_dataloader:\n",
    "        \n",
    "        image_batch = image_batch.to(device)\n",
    "\n",
    "        # vae reconstruction\n",
    "        image_batch_recon, latent_mu, latent_logvar = vae(image_batch)\n",
    "        \n",
    "        # reconstruction error\n",
    "        loss = vae_loss(image_batch_recon, image_batch, latent_mu, latent_logvar)\n",
    "        \n",
    "        # backpropagation\n",
    "        optimizer.zero_grad()\n",
    "        loss.backward()\n",
    "        \n",
    "        # one step of the optmizer (using the gradients from backpropagation)\n",
    "        optimizer.step()\n",
    "        \n",
    "        train_loss_avg[-1] += loss.item()\n",
    "        num_batches += 1\n",
    "        \n",
    "    train_loss_avg[-1] /= num_batches\n",
    "    print('Epoch [%d / %d] average reconstruction error: %f' % (epoch+1, num_epochs, train_loss_avg[-1]))"
   ]
  },
  {
   "cell_type": "code",
   "execution_count": 6,
   "metadata": {},
   "outputs": [
    {
     "data": {
      "image/png": "[encoded data removed]",
      "text/plain": [
       "<Figure size 432x288 with 1 Axes>"
      ]
     },
     "metadata": {
      "needs_background": "light"
     },
     "output_type": "display_data"
    }
   ],
   "source": [
    "## trainign curve\n",
    "fig = plt.figure()\n",
    "plt.plot(train_loss_avg)\n",
    "plt.xlabel('Epochs')\n",
    "plt.ylabel('Loss')\n",
    "plt.show()"
   ]
  },
  {
   "cell_type": "code",
   "execution_count": 7,
   "metadata": {},
   "outputs": [
    {
     "name": "stdout",
     "output_type": "stream",
     "text": [
      "average reconstruction error: 12798.156822\n"
     ]
    }
   ],
   "source": [
    "# test set error\n",
    "vae.eval()\n",
    "\n",
    "test_loss_avg, num_batches = 0, 0\n",
    "for image_batch, _ in test_dataloader:\n",
    "    \n",
    "    with torch.no_grad():\n",
    "    \n",
    "        image_batch = image_batch.to(device)\n",
    "\n",
    "        # vae reconstruction\n",
    "        image_batch_recon, latent_mu, latent_logvar = vae(image_batch)\n",
    "\n",
    "        # reconstruction error\n",
    "        loss = vae_loss(image_batch_recon, image_batch, latent_mu, latent_logvar)\n",
    "\n",
    "        test_loss_avg += loss.item()\n",
    "        num_batches += 1\n",
    "    \n",
    "test_loss_avg /= num_batches\n",
    "print('average reconstruction error: %f' % (test_loss_avg))"
   ]
  },
  {
   "cell_type": "markdown",
   "metadata": {},
   "source": [
    "## Visulazation"
   ]
  },
  {
   "cell_type": "markdown",
   "metadata": {},
   "source": [
    "### test set"
   ]
  },
  {
   "cell_type": "code",
   "execution_count": 8,
   "metadata": {},
   "outputs": [
    {
     "name": "stdout",
     "output_type": "stream",
     "text": [
      "Original images\n"
     ]
    },
    {
     "data": {
      "image/png": "[encoded data removed]",
      "text/plain": [
       "<Figure size 1080x360 with 1 Axes>"
      ]
     },
     "metadata": {},
     "output_type": "display_data"
    },
    {
     "name": "stdout",
     "output_type": "stream",
     "text": [
      "VAE reconstruction:\n"
     ]
    },
    {
     "data": {
      "image/png": "[encoded data removed]",
      "text/plain": [
       "<Figure size 1080x360 with 1 Axes>"
      ]
     },
     "metadata": {},
     "output_type": "display_data"
    }
   ],
   "source": [
    "vae.eval()\n",
    "\n",
    "SAMPLES = 10\n",
    "\n",
    "def to_img(x):\n",
    "    x = x.clamp(0, 1)\n",
    "    return x\n",
    "\n",
    "def show_image(img):\n",
    "    img = to_img(img)\n",
    "    plt.figure(figsize=(15, 5))\n",
    "    plt.imshow(np.transpose(img.numpy(), (1, 2, 0))) # rearange to (H,W,C)\n",
    "    plt.xticks([]) # to remove x-axis  the [] empty list indicates this\n",
    "    plt.yticks([]) # to remove y-axis\n",
    "    plt.grid(False) # to remove grid\n",
    "\n",
    "def visualize_output(images, model,samples=SAMPLES):\n",
    "\n",
    "    with torch.no_grad():\n",
    "    \n",
    "        images = images.to(device)\n",
    "        images, latent_mu, latent_logvar = (element.cpu() for element in model(images))\n",
    "        images = to_img(images) \n",
    "        np_imagegrid = torchvision.utils.make_grid(images[1:samples], samples, 1).numpy()\n",
    "\n",
    "        plt.figure(figsize=(15, 5))\n",
    "        plt.imshow(np.transpose(np_imagegrid, (1, 2, 0)))\n",
    "        plt.xticks([]) # to remove x-axis  the [] empty list indicates this\n",
    "        plt.yticks([]) # to remove y-axis\n",
    "        plt.grid(False) # to remove grid\n",
    "        plt.show()\n",
    "\n",
    "images, labels = iter(test_dataloader).next()\n",
    "\n",
    "# First visualize the original images\n",
    "print('Original images')\n",
    "show_image(torchvision.utils.make_grid(images[1:SAMPLES],SAMPLES,1))\n",
    "plt.show()\n",
    "\n",
    "# Reconstruct and visualize the images using the vae\n",
    "print('VAE reconstruction:')\n",
    "visualize_output(images, vae)"
   ]
  },
  {
   "cell_type": "markdown",
   "metadata": {},
   "source": [
    "### Sample Latent Variables from Prior (VAE as Generator)"
   ]
  },
  {
   "cell_type": "code",
   "execution_count": 9,
   "metadata": {},
   "outputs": [
    {
     "data": {
      "image/png": "[encoded data removed]",
      "text/plain": [
       "<Figure size 1080x360 with 1 Axes>"
      ]
     },
     "metadata": {},
     "output_type": "display_data"
    }
   ],
   "source": [
    "vae.eval()\n",
    "\n",
    "SAMPLES = 10\n",
    "\n",
    "with torch.no_grad():\n",
    "\n",
    "    # sample latent vectors from the normal distribution (prior)\n",
    "    latent = torch.randn(SAMPLES, latent_dims, device=device)\n",
    "\n",
    "    # reconstruct images from the latent vectors\n",
    "    img_recon = vae.decoder(latent)\n",
    "    img_recon = img_recon.cpu()\n",
    "\n",
    "    show_image(torchvision.utils.make_grid(img_recon.data[:SAMPLES],SAMPLES,1))\n",
    "    plt.xticks([]) # to remove x-axis  the [] empty list indicates this\n",
    "    plt.yticks([]) # to remove y-axis\n",
    "    plt.grid(False) # to remove grid\n",
    "    plt.show()\n",
    "    plt.show()"
   ]
  }
 ],
 "metadata": {
  "interpreter": {
   "hash": "e9e8887f07eeafc681b2bad8c755d7d3f04fe1dab6409cd1c6e18673de2ec3fa"
  },
  "kernelspec": {
   "display_name": "Python 3.8.0 64-bit (conda)",
   "language": "python",
   "name": "python3"
  },
  "language_info": {
   "codemirror_mode": {
    "name": "ipython",
    "version": 3
   },
   "file_extension": ".py",
   "mimetype": "text/x-python",
   "name": "python",
   "nbconvert_exporter": "python",
   "pygments_lexer": "ipython3",
   "version": "3.8.0"
  },
  "orig_nbformat": 4
 },
 "nbformat": 4,
 "nbformat_minor": 2
}
